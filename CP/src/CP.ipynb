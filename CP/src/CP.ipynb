{
 "cells": [
  {
   "cell_type": "markdown",
   "id": "b9da6198",
   "metadata": {},
   "source": [
    "# VLSI - CP Part\n",
    "Di Tuccio Gianluca, Orsini Lorenzo"
   ]
  },
  {
   "cell_type": "code",
   "execution_count": 1,
   "id": "3f5eb324",
   "metadata": {},
   "outputs": [],
   "source": [
    "from minizinc import Instance, Model, Solver\n",
    "from datetime import timedelta\n",
    "import time\n",
    "import pandas as pd\n",
    "import os\n",
    "from tqdm import tqdm\n",
    "random_seed = 42\n",
    "\n",
    "'''\n",
    "SET HERE THE PATH OF THE MAIN FOLDER (i.e VLSI folder)\n",
    "            |\n",
    "            |\n",
    "            V\n",
    "'''\n",
    "os.chdir('/Users/gianlucadituccio/Documents/VLSI')\n",
    "from utils.utils import *"
   ]
  },
  {
   "cell_type": "code",
   "execution_count": null,
   "id": "27b58d20",
   "metadata": {},
   "outputs": [],
   "source": [
    "async def solve_model(model_path, solver, parameters, timeout, rotation=False):\n",
    "    \n",
    "    # load the model\n",
    "    model = Model(model_path)\n",
    "    solver = Solver.lookup(solver)\n",
    "    instance = Instance(solver, model)\n",
    "\n",
    "    # sort rectangles by y components (if they are equal, then compare x components)\n",
    "    # store the indeces of the rectangles before sorting them\n",
    "    x_max = max(parameters['x_components'])\n",
    "    y_max = max(parameters['y_components'])\n",
    "    rectangles = [(x, y, i) for i, (x, y) in enumerate(zip(parameters['x_components'], parameters['y_components']))]\n",
    "    \n",
    "    # if there exists a rectangle with a x component higher than any y component and rotation is enabled,\n",
    "    # then rotate the rectangle and sort the others. At the end, insert the rotated block in the top of the list\n",
    "    if rotation and x_max>y_max and x_max<=height:\n",
    "        sorted_rectangles = sorted(rectangles, key=lambda x: (x[0],x[1]), reverse=True)\n",
    "        instance['first_rectangle_rot'] = True\n",
    "        first_rectangle = sorted_rectangles[0]\n",
    "        sorted_rectangles = sorted(rectangles[1:], key=lambda x: (x[1],x[0]), reverse=True)\n",
    "        sorted_rectangles.insert(0, first_rectangle)\n",
    "    \n",
    "    # if rotation is enabled and there aren't x components higher then any y component, then simply sort\n",
    "    elif rotation:\n",
    "        sorted_rectangles = sorted(rectangles, key=lambda x: (x[1],x[0]), reverse=True)\n",
    "        instance['first_rectangle_rot'] = False\n",
    "    \n",
    "    # sort the rectangles by y component\n",
    "    else: sorted_rectangles = sorted(rectangles, key=lambda x: (x[1],x[0]), reverse=True)\n",
    "    x_components = [k[0] for k in sorted_rectangles]\n",
    "    y_components = [k[1] for k in sorted_rectangles]\n",
    "    original_indices = [k[2] for k in sorted_rectangles]\n",
    "    \n",
    "    # assign the parameters to the model\n",
    "    instance['w'] = parameters['w']\n",
    "    instance['n'] = parameters['n_rectangles']\n",
    "    instance['x_components']=x_components\n",
    "    instance['y_components']=y_components\n",
    "    instance['min_h']=parameters['min_h']\n",
    "    \n",
    "    # create the output variable for storing the results\n",
    "    output = {}\n",
    "    \n",
    "    # change the name of the variables if the model has the rotation enabled\n",
    "    try:\n",
    "        # solve the problem\n",
    "        t1 = time.time()\n",
    "        result = await instance.solve_async(timeout=timedelta(seconds=timeout), random_seed=random_seed, processes=8, free_search=True)\n",
    "        t2 = time.time()\n",
    "        \n",
    "        if rotation:\n",
    "            # restore the order before the sort by y components\n",
    "            positions = [(x, y, i, z, k) for x, y, i, z, k in zip(result['x_positions'], \n",
    "                                                            result['y_positions'], \n",
    "                                                            result['x_components_rot'], \n",
    "                                                            result['y_components_rot'],\n",
    "                                                            original_indices)]\n",
    "        \n",
    "        else:\n",
    "            positions = [(x, y, i, z, k) for x, y, i, z, k in zip(result['x_positions'], \n",
    "                                                            result['y_positions'], \n",
    "                                                            x_components, \n",
    "                                                            y_components,\n",
    "                                                            original_indices)]\n",
    "        # store the results\n",
    "        sorted_positions = sorted(positions, key=lambda x: x[4])\n",
    "        output['x_positions'], output['y_positions'], output['x_components'], output['y_components'], _ = zip(*sorted_positions)\n",
    "            \n",
    "        # save h found, initial W and the computational time\n",
    "        output['h'] = result['h']\n",
    "        output['W'] = parameters['w']\n",
    "        output['time'] = t2-t1\n",
    "        output['h_min'] = parameters['min_h']\n",
    "    \n",
    "    except Exception as ex: print(ex)\n",
    "    \n",
    "    finally: return output"
   ]
  },
  {
   "cell_type": "markdown",
   "id": "eceb0056",
   "metadata": {},
   "source": [
    "## Test CP\n",
    "Here, you can find the code for testing the different models."
   ]
  },
  {
   "cell_type": "code",
   "execution_count": null,
   "id": "0b6ee30a",
   "metadata": {},
   "outputs": [],
   "source": [
    "rotation = True # True --> enable rotation\n",
    "model_name = 'VLSI.mzn' if not rotation else 'VLSI_rotation.mzn'\n",
    "solver = 'chuffed'\n",
    "\n",
    "for i in tqdm(range(1,41)):\n",
    "    file = LoadInstance('utils/instances/',f'ins-{i}.txt')\n",
    "    result = await solve_model(model_path='CP/src/'+model_name, solver=solver, \n",
    "                               parameters=file, timeout=300, rotation=rotation)\n",
    "    if result:\n",
    "        # if you want plot the results without saving them, use: PlotInstance(result)\n",
    "        PlotInstance(result, \n",
    "                     path='CP/images', \n",
    "                     name='fig-'+str(i) if not rotation else 'rotation_fig-'+str(i))\n",
    "        WriteInstance(result,\n",
    "                     path='CP/out',\n",
    "                     name='out-'+str(i) if not rotation else 'rotation_out-'+str(i))\n",
    "    else:\n",
    "        print('Instance', i, 'TIMEOUT')"
   ]
  },
  {
   "cell_type": "markdown",
   "id": "27e4471d",
   "metadata": {},
   "source": [
    "## Gecode VS Chuffed\n",
    "For the CP part, we've tried different strategies and models. All the results has been stored in the ***datasets*** folder, inside the ***utils*** folder.<br>\n",
    "First, we've compared Chuffed and Gecode, as shown below:"
   ]
  },
  {
   "cell_type": "code",
   "execution_count": 2,
   "id": "816b5f58",
   "metadata": {},
   "outputs": [
    {
     "name": "stdout",
     "output_type": "stream",
     "text": [
      "TIMEOUT is seen as 300s.\n",
      "\n",
      "+------------------+----------+----------+\n",
      "|                  |   Gecode |  Chuffed |\n",
      "+------------------+----------+----------+\n",
      "|  Total Time [s]  | 7804.766 | 3389.981 |\n",
      "|     Max [s]      |    300.0 |    300.0 |\n",
      "|     Min [s]      |    0.316 |    0.163 |\n",
      "|     Mean [s]     |  195.119 |    84.75 |\n",
      "|     Std [s]      |  144.749 |  130.403 |\n",
      "| Instances Solved |    14/40 |    30/40 |\n",
      "|    Optimal H     |    14/40 |    30/40 |\n",
      "+------------------+----------+----------+\n"
     ]
    }
   ],
   "source": [
    "models = pd.read_csv('utils/datasets/gecode_chuffed.csv')\n",
    "Statistics({'Gecode':models['time_gecode'], 'Chuffed':models['time_chuffed']}, \n",
    "           {'h_min':models['h_min'], 'Gecode':models['h_gecode'], 'Chuffed':models['h_chuffed']},\n",
    "           timeout=300)"
   ]
  },
  {
   "cell_type": "code",
   "execution_count": 3,
   "id": "8d053372",
   "metadata": {},
   "outputs": [
    {
     "data": {
      "image/png": "[encoded data removed]",
      "text/plain": [
       "<Figure size 1080x720 with 1 Axes>"
      ]
     },
     "metadata": {
      "needs_background": "light"
     },
     "output_type": "display_data"
    }
   ],
   "source": [
    "PlotStats({'Gecode':models['time_gecode'], 'Chuffed':models['time_chuffed']}, x_axis=list(models['Instance']))"
   ]
  },
  {
   "cell_type": "markdown",
   "id": "a580b695",
   "metadata": {},
   "source": [
    "## Chuffed Ordered VS Chuffed Free Search\n",
    "After selecting the most suitable model (i.e. Chuffed), we attempted various strategies: one of which utilized the input order of rectangles (all rectangles were ordered by their y-components), and the other strategy employed the use of free search from the Python API."
   ]
  },
  {
   "cell_type": "code",
   "execution_count": 4,
   "id": "a0e1dc8b",
   "metadata": {},
   "outputs": [
    {
     "name": "stdout",
     "output_type": "stream",
     "text": [
      "TIMEOUT is seen as 300s.\n",
      "\n",
      "+------------------+-----------------+---------------------+\n",
      "|                  | Chuffed Ordered | Chuffed Free Search |\n",
      "+------------------+-----------------+---------------------+\n",
      "|  Total Time [s]  |        3389.981 |             594.318 |\n",
      "|     Max [s]      |           300.0 |               300.0 |\n",
      "|     Min [s]      |           0.163 |               0.157 |\n",
      "|     Mean [s]     |           84.75 |              14.858 |\n",
      "|     Std [s]      |         130.403 |              54.793 |\n",
      "| Instances Solved |           30/40 |               39/40 |\n",
      "|    Optimal H     |           30/40 |               39/40 |\n",
      "+------------------+-----------------+---------------------+\n"
     ]
    }
   ],
   "source": [
    "strategies = pd.read_csv('utils/datasets/chuffed_strategies.csv')\n",
    "Statistics({'Chuffed Ordered':strategies['time_chuffed'], \n",
    "            'Chuffed Free Search':strategies['time']}, \n",
    "           {'h_min':strategies['h_min'], \n",
    "            'Chuffed Ordered':strategies['h_chuffed'], \n",
    "            'Chuffed Free Search':strategies['h']},\n",
    "           timeout=300)"
   ]
  },
  {
   "cell_type": "code",
   "execution_count": 5,
   "id": "82bef0c1",
   "metadata": {},
   "outputs": [
    {
     "data": {
      "image/png": "[encoded data removed]",
      "text/plain": [
       "<Figure size 1080x720 with 1 Axes>"
      ]
     },
     "metadata": {
      "needs_background": "light"
     },
     "output_type": "display_data"
    }
   ],
   "source": [
    "PlotStats({'Chuffed Ordered':strategies['time_chuffed'], \n",
    "           'Chuffed Free Search':strategies['time']}, x_axis=list(models['Instance']))"
   ]
  },
  {
   "cell_type": "markdown",
   "id": "c9e4334f",
   "metadata": {},
   "source": [
    "## Chuffed VS Heuristics\n",
    "At the end, we've evaluate the free search model with different heuristics, in particular the seq_search with restart of 100, 5000 and without restart, and adding the search on x and y coordinates with first fail.<br>\n",
    "The best model was the one with a constant restart of 5000, which computes all the 40 instances."
   ]
  },
  {
   "cell_type": "code",
   "execution_count": 6,
   "id": "5b1bb69d",
   "metadata": {},
   "outputs": [
    {
     "name": "stdout",
     "output_type": "stream",
     "text": [
      "TIMEOUT is seen as 300s.\n",
      "\n",
      "+------------------+---------+-------------------+------------------+------------+\n",
      "|                  |      FS | FS + Restart 5000 | FS + Restart 100 | First Fail |\n",
      "+------------------+---------+-------------------+------------------+------------+\n",
      "|  Total Time [s]  | 594.318 |           576.446 |          681.571 |    904.037 |\n",
      "|     Max [s]      |   300.0 |             300.0 |            300.0 |      300.0 |\n",
      "|     Min [s]      |   0.157 |             0.163 |            0.164 |      0.158 |\n",
      "|     Mean [s]     |  14.858 |            14.411 |           17.039 |     22.601 |\n",
      "|     Std [s]      |  54.793 |            50.056 |           55.399 |     65.462 |\n",
      "| Instances Solved |   39/40 |             39/40 |            39/40 |      39/40 |\n",
      "|    Optimal H     |   39/40 |             39/40 |            39/40 |      39/40 |\n",
      "+------------------+---------+-------------------+------------------+------------+\n"
     ]
    }
   ],
   "source": [
    "heuristics = pd.read_csv('utils/datasets/chuffed_heuristcs.csv')\n",
    "Statistics({'FS':heuristics['time'], \n",
    "            'FS + Restart 5000':heuristics['time_restart5000'],\n",
    "            'FS + Restart 100':heuristics['time_restart100'],\n",
    "            'First Fail':heuristics['time_fail']}, \n",
    "           {'h_min':heuristics['h_min'], \n",
    "            'FS':heuristics['h'], \n",
    "            'FS + Restart 5000':heuristics['h_restart5000'],\n",
    "            'FS + Restart 100':heuristics['h_restart100'],\n",
    "            'First Fail': heuristics['h_fail']},\n",
    "            timeout=300)"
   ]
  },
  {
   "cell_type": "code",
   "execution_count": 7,
   "id": "b1bae093",
   "metadata": {},
   "outputs": [
    {
     "data": {
      "image/png": "[encoded data removed]",
      "text/plain": [
       "<Figure size 1080x720 with 1 Axes>"
      ]
     },
     "metadata": {
      "needs_background": "light"
     },
     "output_type": "display_data"
    }
   ],
   "source": [
    "PlotStats({'FS':heuristics['time'], \n",
    "           'FS + Restart 5000':heuristics['time_restart5000'],\n",
    "           'FS + Restart 100':heuristics['time_restart100'],\n",
    "           'First Fail':heuristics['time_fail']},\n",
    "            x_axis=list(models['Instance']), width_bar=0.15)"
   ]
  },
  {
   "cell_type": "markdown",
   "id": "9aef3588",
   "metadata": {},
   "source": [
    "## Chuffed with/out Rotation"
   ]
  },
  {
   "cell_type": "code",
   "execution_count": 8,
   "id": "38a6a1d3",
   "metadata": {},
   "outputs": [
    {
     "name": "stdout",
     "output_type": "stream",
     "text": [
      "TIMEOUT is seen as 300s.\n",
      "\n",
      "+------------------+-------------+----------+\n",
      "|                  | No Rotation | Rotation |\n",
      "+------------------+-------------+----------+\n",
      "|  Total Time [s]  |     576.446 | 3725.503 |\n",
      "|     Max [s]      |       300.0 |    300.0 |\n",
      "|     Min [s]      |       0.163 |    0.163 |\n",
      "|     Mean [s]     |      14.411 |   93.138 |\n",
      "|     Std [s]      |      50.056 |  131.409 |\n",
      "| Instances Solved |       39/40 |    29/40 |\n",
      "|    Optimal H     |       39/40 |    29/40 |\n",
      "+------------------+-------------+----------+\n"
     ]
    }
   ],
   "source": [
    "rotation = pd.read_csv('utils/datasets/chuffed_rotation.csv')\n",
    "Statistics({'No Rotation':rotation['time_restart5000'], \n",
    "            'Rotation':rotation['time']}, \n",
    "           {'h_min':rotation['h_min'], \n",
    "            'No Rotation':rotation['h_restart5000'], \n",
    "            'Rotation':rotation['h']},\n",
    "            timeout=300)"
   ]
  },
  {
   "cell_type": "code",
   "execution_count": 9,
   "id": "8cacf53a",
   "metadata": {},
   "outputs": [
    {
     "data": {
      "image/png": "[encoded data removed]",
      "text/plain": [
       "<Figure size 1080x720 with 1 Axes>"
      ]
     },
     "metadata": {
      "needs_background": "light"
     },
     "output_type": "display_data"
    }
   ],
   "source": [
    "PlotStats({'No Rotation':rotation['time_restart5000'], \n",
    "           'Rotation':rotation['time']},\n",
    "            x_axis=list(models['Instance']))"
   ]
  },
  {
   "cell_type": "code",
   "execution_count": null,
   "id": "2c33390b",
   "metadata": {},
   "outputs": [],
   "source": []
  }
 ],
 "metadata": {
  "kernelspec": {
   "display_name": "Python 3",
   "language": "python",
   "name": "python3"
  },
  "language_info": {
   "codemirror_mode": {
    "name": "ipython",
    "version": 3
   },
   "file_extension": ".py",
   "mimetype": "text/x-python",
   "name": "python",
   "nbconvert_exporter": "python",
   "pygments_lexer": "ipython3",
   "version": "3.8.8"
  }
 },
 "nbformat": 4,
 "nbformat_minor": 5
}
